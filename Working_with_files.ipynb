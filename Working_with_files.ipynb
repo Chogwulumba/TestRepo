{
  "cells": [
    {
      "cell_type": "markdown",
      "metadata": {},
      "source": [
        "#Working with Files"
      ]
    }
  ],
  "metadata": {
    "kernelspec": {
      "display_name": "Python (Pyodide)",
      "language": "python",
      "name": "python"
    },
    "language_info": {
      "codemirror_mode": {
        "name": "python",
        "version": 3
      },
      "file_extension": ".py",
      "mimetype": "text/x-python",
      "name": "python",
      "nbconvert_exporter": "python",
      "pygments_lexer": "ipython3",
      "version": "3.8"
    },
    "prev_pub_hash": "dd43aed02a3afabaf242a0ffa1e21b96e45892466a2baecb1da72eb5f04b6290"
  },
  "nbformat": 4,
  "nbformat_minor": 4
}
